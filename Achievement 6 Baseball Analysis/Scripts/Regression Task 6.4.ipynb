{
 "cells": [
  {
   "cell_type": "markdown",
   "id": "e53ae52d",
   "metadata": {},
   "source": [
    "# 6.4 Machine Learning "
   ]
  },
  {
   "cell_type": "markdown",
   "id": "90a9c709",
   "metadata": {},
   "source": [
    "1 Importing Data and Libraries\n",
    "2 Clean Data\n",
    "3 Explore Data and Decide Variables to Test\n",
    "4 Reshape the Variables\n",
    "5 Split Data into a Training Set and a Test Set\n",
    "6 Run a Linear Regression\n",
    "7 Check Model Summary Stats\n",
    "8 Compare Predicted Versus Actual\n",
    "9 Compare Test Set"
   ]
  },
  {
   "cell_type": "markdown",
   "id": "66930994",
   "metadata": {},
   "source": [
    "# 1 Importing Libraries and Data"
   ]
  },
  {
   "cell_type": "code",
   "execution_count": 1,
   "id": "bad33244",
   "metadata": {},
   "outputs": [],
   "source": [
    "# import libraries\n",
    "import pandas as pd\n",
    "import numpy as np\n",
    "import seaborn as sns\n",
    "import matplotlib\n",
    "import matplotlib.pyplot as plt\n",
    "import os\n",
    "import sklearn\n",
    "from sklearn.model_selection import train_test_split \n",
    "from sklearn.linear_model import LinearRegression\n",
    "from sklearn.metrics import mean_squared_error, r2_score"
   ]
  },
  {
   "cell_type": "code",
   "execution_count": 2,
   "id": "3c56169b",
   "metadata": {},
   "outputs": [],
   "source": [
    "# ensure graphs are displayed\n",
    "%matplotlib inline"
   ]
  },
  {
   "cell_type": "code",
   "execution_count": 3,
   "id": "14c8ea13",
   "metadata": {},
   "outputs": [],
   "source": [
    "# import data \n",
    "df = pd.read_csv(r'C:\\Users\\419182\\OneDrive - JELDWEN Inc\\Desktop\\Data Analytics\\Clean2019BattingData2.csv', low_memory = False)"
   ]
  },
  {
   "cell_type": "markdown",
   "id": "3a4f4cf2",
   "metadata": {},
   "source": [
    "# 2 Clean Data"
   ]
  },
  {
   "cell_type": "markdown",
   "id": "92c58d7d",
   "metadata": {},
   "source": [
    "I initially cleaned this data set, but I will make sure that the columns I need do not contain missing values. "
   ]
  },
  {
   "cell_type": "code",
   "execution_count": 4,
   "id": "34690a99",
   "metadata": {},
   "outputs": [
    {
     "data": {
      "text/plain": [
       "Opponent.H    0\n",
       "Wind.Speed    0\n",
       "dtype: int64"
      ]
     },
     "execution_count": 4,
     "metadata": {},
     "output_type": "execute_result"
    }
   ],
   "source": [
    "# check for missing values\n",
    "df[['Opponent.H', 'Wind.Speed']].isnull().sum()"
   ]
  },
  {
   "cell_type": "markdown",
   "id": "768499fe",
   "metadata": {},
   "source": [
    "# 3 Explore Data and Decide on Variables to test"
   ]
  },
  {
   "cell_type": "code",
   "execution_count": 5,
   "id": "764be15a",
   "metadata": {},
   "outputs": [
    {
     "data": {
      "image/png": "[encoded data removed]",
      "text/plain": [
       "<Figure size 432x288 with 1 Axes>"
      ]
     },
     "metadata": {
      "needs_background": "light"
     },
     "output_type": "display_data"
    }
   ],
   "source": [
    "# create a scatter plot to see variables \n",
    "df.plot(x = 'Wind.Speed', y='Opponent.H',style='o')\n",
    "plt.title('Wind Speed vs Opponent Hits')  \n",
    "plt.xlabel('Wind.Speed')  \n",
    "plt.ylabel('Opponent.H')  \n",
    "plt.show()"
   ]
  },
  {
   "cell_type": "markdown",
   "id": "1da80756",
   "metadata": {},
   "source": [
    "My original hypothesis from task 6.2 was that wind speeds greater than 10 have higher opponent hits.  Passed on the graph above, this does not seem to hold true.  I will use these two as my variables regardless. "
   ]
  },
  {
   "cell_type": "code",
   "execution_count": 6,
   "id": "80e4d76a",
   "metadata": {},
   "outputs": [
    {
     "name": "stderr",
     "output_type": "stream",
     "text": [
      "C:\\Users\\419182\\Newanaconda\\lib\\site-packages\\seaborn\\distributions.py:2619: FutureWarning: `distplot` is a deprecated function and will be removed in a future version. Please adapt your code to use either `displot` (a figure-level function with similar flexibility) or `histplot` (an axes-level function for histograms).\n",
      "  warnings.warn(msg, FutureWarning)\n"
     ]
    },
    {
     "data": {
      "text/plain": [
       "<AxesSubplot:xlabel='Wind.Speed', ylabel='Density'>"
      ]
     },
     "execution_count": 6,
     "metadata": {},
     "output_type": "execute_result"
    },
    {
     "data": {
      "image/png": "[encoded data removed]",
      "text/plain": [
       "<Figure size 432x288 with 1 Axes>"
      ]
     },
     "metadata": {
      "needs_background": "light"
     },
     "output_type": "display_data"
    }
   ],
   "source": [
    "# create histogram\n",
    "sns.distplot(df['Wind.Speed'], bins=25)"
   ]
  },
  {
   "cell_type": "code",
   "execution_count": 7,
   "id": "055fedf8",
   "metadata": {},
   "outputs": [
    {
     "data": {
      "text/plain": [
       "7.544450800915332"
      ]
     },
     "execution_count": 7,
     "metadata": {},
     "output_type": "execute_result"
    }
   ],
   "source": [
    "# check mean, median, max\n",
    "df['Wind.Speed'].mean()"
   ]
  },
  {
   "cell_type": "code",
   "execution_count": 8,
   "id": "6e21d9c0",
   "metadata": {},
   "outputs": [
    {
     "data": {
      "text/plain": [
       "8.0"
      ]
     },
     "execution_count": 8,
     "metadata": {},
     "output_type": "execute_result"
    }
   ],
   "source": [
    "df['Wind.Speed'].median()"
   ]
  },
  {
   "cell_type": "code",
   "execution_count": 9,
   "id": "328ed774",
   "metadata": {},
   "outputs": [
    {
     "data": {
      "text/plain": [
       "27"
      ]
     },
     "execution_count": 9,
     "metadata": {},
     "output_type": "execute_result"
    }
   ],
   "source": [
    "df['Wind.Speed'].max()"
   ]
  },
  {
   "cell_type": "markdown",
   "id": "80164729",
   "metadata": {},
   "source": [
    "# 4 Reshape the variables"
   ]
  },
  {
   "cell_type": "code",
   "execution_count": 10,
   "id": "ab6ddc71",
   "metadata": {},
   "outputs": [],
   "source": [
    "# use numpy arrays to reshape \n",
    "X = df['Wind.Speed'].values.reshape(-1,1)\n",
    "y = df['Opponent.H'].values.reshape(-1,1)"
   ]
  },
  {
   "cell_type": "code",
   "execution_count": 11,
   "id": "50001e85",
   "metadata": {},
   "outputs": [
    {
     "data": {
      "text/plain": [
       "array([[0],\n",
       "       [0],\n",
       "       [0],\n",
       "       ...,\n",
       "       [4],\n",
       "       [4],\n",
       "       [4]], dtype=int64)"
      ]
     },
     "execution_count": 11,
     "metadata": {},
     "output_type": "execute_result"
    }
   ],
   "source": [
    "# check arrays\n",
    "X"
   ]
  },
  {
   "cell_type": "code",
   "execution_count": 12,
   "id": "55db0ca3",
   "metadata": {},
   "outputs": [
    {
     "data": {
      "text/plain": [
       "array([[ 7],\n",
       "       [ 7],\n",
       "       [ 7],\n",
       "       ...,\n",
       "       [14],\n",
       "       [14],\n",
       "       [14]], dtype=int64)"
      ]
     },
     "execution_count": 12,
     "metadata": {},
     "output_type": "execute_result"
    }
   ],
   "source": [
    "# check array\n",
    "y"
   ]
  },
  {
   "cell_type": "markdown",
   "id": "8c6c2923",
   "metadata": {},
   "source": [
    "# 5 Split Data into a training set and test set"
   ]
  },
  {
   "cell_type": "code",
   "execution_count": 13,
   "id": "c3c60e7c",
   "metadata": {},
   "outputs": [],
   "source": [
    "# split data \n",
    "X_train, X_test, y_train, y_test = train_test_split(X, y, test_size=0.3, random_state=0)"
   ]
  },
  {
   "cell_type": "markdown",
   "id": "6821da04",
   "metadata": {},
   "source": [
    "# 6 Run a Linear Regression "
   ]
  },
  {
   "cell_type": "code",
   "execution_count": 14,
   "id": "84f2a28b",
   "metadata": {},
   "outputs": [],
   "source": [
    "# create regresion object\n",
    "regression = LinearRegression()"
   ]
  },
  {
   "cell_type": "code",
   "execution_count": 15,
   "id": "2fb2ab6c",
   "metadata": {},
   "outputs": [
    {
     "data": {
      "text/plain": [
       "LinearRegression()"
      ]
     },
     "execution_count": 15,
     "metadata": {},
     "output_type": "execute_result"
    }
   ],
   "source": [
    "# fit regression object into training set\n",
    "regression.fit(X_train, y_train)"
   ]
  },
  {
   "cell_type": "code",
   "execution_count": 16,
   "id": "7141f20f",
   "metadata": {},
   "outputs": [],
   "source": [
    "# predict the values of y using X\n",
    "y_predicted = regression.predict(X_test)"
   ]
  },
  {
   "cell_type": "code",
   "execution_count": 17,
   "id": "4554b47c",
   "metadata": {},
   "outputs": [
    {
     "data": {
      "image/png": "[encoded data removed]",
      "text/plain": [
       "<Figure size 432x288 with 1 Axes>"
      ]
     },
     "metadata": {
      "needs_background": "light"
     },
     "output_type": "display_data"
    }
   ],
   "source": [
    "# create a plot that shows the regression line from the test set\n",
    "plot_test = plt\n",
    "plot_test.scatter(X_test, y_test, color='gray', s = 15)\n",
    "plot_test.plot(X_test, y_predicted, color='red', linewidth =3)\n",
    "plot_test.title('Wind.Speed vs Opponent.H (Test set)')\n",
    "plot_test.xlabel('Wind.Speed')\n",
    "plot_test.ylabel('Opponent.H')\n",
    "plot_test.show()"
   ]
  },
  {
   "cell_type": "markdown",
   "id": "babddd9d",
   "metadata": {},
   "source": [
    "It is hard to say if the line fits the data well without knowing the R2 and MSE.  Based on the data being spread out, I am thinking that the regression may not fit the data. "
   ]
  },
  {
   "cell_type": "markdown",
   "id": "2240295f",
   "metadata": {},
   "source": [
    "# 7 Check Model Summary Stats"
   ]
  },
  {
   "cell_type": "code",
   "execution_count": 18,
   "id": "49bda2bb",
   "metadata": {},
   "outputs": [],
   "source": [
    "# create objects that contain the model summary statistics\n",
    "rmse = mean_squared_error(y_test, y_predicted)\n",
    "r2 = r2_score(y_test, y_predicted)"
   ]
  },
  {
   "cell_type": "code",
   "execution_count": 19,
   "id": "26ea940e",
   "metadata": {},
   "outputs": [
    {
     "name": "stdout",
     "output_type": "stream",
     "text": [
      "Slope: [[0.00640872]]\n",
      "Mean squared error:  12.23914715243127\n",
      "R2 score:  -0.00010246823754678225\n"
     ]
    }
   ],
   "source": [
    "# print the model summary statistics\n",
    "print('Slope:' ,regression.coef_)\n",
    "print('Mean squared error: ', rmse)\n",
    "print('R2 score: ', r2)"
   ]
  },
  {
   "cell_type": "markdown",
   "id": "a53a2582",
   "metadata": {},
   "source": [
    "# 8 Compare Predicted versus Actual "
   ]
  },
  {
   "cell_type": "code",
   "execution_count": 20,
   "id": "ebf58724",
   "metadata": {},
   "outputs": [
    {
     "data": {
      "text/plain": [
       "array([[8.77897975],\n",
       "       [8.81743207],\n",
       "       [8.75975359],\n",
       "       ...,\n",
       "       [8.79820591],\n",
       "       [8.83665823],\n",
       "       [8.79820591]])"
      ]
     },
     "execution_count": 20,
     "metadata": {},
     "output_type": "execute_result"
    }
   ],
   "source": [
    "# check\n",
    "y_predicted"
   ]
  },
  {
   "cell_type": "code",
   "execution_count": 21,
   "id": "77bfb367",
   "metadata": {},
   "outputs": [
    {
     "data": {
      "text/html": [
       "<div>\n",
       "<style scoped>\n",
       "    .dataframe tbody tr th:only-of-type {\n",
       "        vertical-align: middle;\n",
       "    }\n",
       "\n",
       "    .dataframe tbody tr th {\n",
       "        vertical-align: top;\n",
       "    }\n",
       "\n",
       "    .dataframe thead th {\n",
       "        text-align: right;\n",
       "    }\n",
       "</style>\n",
       "<table border=\"1\" class=\"dataframe\">\n",
       "  <thead>\n",
       "    <tr style=\"text-align: right;\">\n",
       "      <th></th>\n",
       "      <th>Actual</th>\n",
       "      <th>Predicted</th>\n",
       "    </tr>\n",
       "  </thead>\n",
       "  <tbody>\n",
       "    <tr>\n",
       "      <th>0</th>\n",
       "      <td>8</td>\n",
       "      <td>8.778980</td>\n",
       "    </tr>\n",
       "    <tr>\n",
       "      <th>1</th>\n",
       "      <td>6</td>\n",
       "      <td>8.817432</td>\n",
       "    </tr>\n",
       "    <tr>\n",
       "      <th>2</th>\n",
       "      <td>9</td>\n",
       "      <td>8.759754</td>\n",
       "    </tr>\n",
       "    <tr>\n",
       "      <th>3</th>\n",
       "      <td>5</td>\n",
       "      <td>8.740527</td>\n",
       "    </tr>\n",
       "    <tr>\n",
       "      <th>4</th>\n",
       "      <td>14</td>\n",
       "      <td>8.798206</td>\n",
       "    </tr>\n",
       "    <tr>\n",
       "      <th>5</th>\n",
       "      <td>11</td>\n",
       "      <td>8.823841</td>\n",
       "    </tr>\n",
       "    <tr>\n",
       "      <th>6</th>\n",
       "      <td>12</td>\n",
       "      <td>8.817432</td>\n",
       "    </tr>\n",
       "    <tr>\n",
       "      <th>7</th>\n",
       "      <td>12</td>\n",
       "      <td>8.778980</td>\n",
       "    </tr>\n",
       "    <tr>\n",
       "      <th>8</th>\n",
       "      <td>9</td>\n",
       "      <td>8.791797</td>\n",
       "    </tr>\n",
       "    <tr>\n",
       "      <th>9</th>\n",
       "      <td>8</td>\n",
       "      <td>8.740527</td>\n",
       "    </tr>\n",
       "    <tr>\n",
       "      <th>10</th>\n",
       "      <td>12</td>\n",
       "      <td>8.798206</td>\n",
       "    </tr>\n",
       "    <tr>\n",
       "      <th>11</th>\n",
       "      <td>10</td>\n",
       "      <td>8.804615</td>\n",
       "    </tr>\n",
       "    <tr>\n",
       "      <th>12</th>\n",
       "      <td>6</td>\n",
       "      <td>8.811023</td>\n",
       "    </tr>\n",
       "    <tr>\n",
       "      <th>13</th>\n",
       "      <td>15</td>\n",
       "      <td>8.791797</td>\n",
       "    </tr>\n",
       "    <tr>\n",
       "      <th>14</th>\n",
       "      <td>15</td>\n",
       "      <td>8.811023</td>\n",
       "    </tr>\n",
       "    <tr>\n",
       "      <th>15</th>\n",
       "      <td>8</td>\n",
       "      <td>8.817432</td>\n",
       "    </tr>\n",
       "    <tr>\n",
       "      <th>16</th>\n",
       "      <td>12</td>\n",
       "      <td>8.823841</td>\n",
       "    </tr>\n",
       "    <tr>\n",
       "      <th>17</th>\n",
       "      <td>8</td>\n",
       "      <td>8.823841</td>\n",
       "    </tr>\n",
       "    <tr>\n",
       "      <th>18</th>\n",
       "      <td>8</td>\n",
       "      <td>8.772571</td>\n",
       "    </tr>\n",
       "    <tr>\n",
       "      <th>19</th>\n",
       "      <td>5</td>\n",
       "      <td>8.778980</td>\n",
       "    </tr>\n",
       "    <tr>\n",
       "      <th>20</th>\n",
       "      <td>7</td>\n",
       "      <td>8.836658</td>\n",
       "    </tr>\n",
       "    <tr>\n",
       "      <th>21</th>\n",
       "      <td>6</td>\n",
       "      <td>8.785388</td>\n",
       "    </tr>\n",
       "    <tr>\n",
       "      <th>22</th>\n",
       "      <td>9</td>\n",
       "      <td>8.740527</td>\n",
       "    </tr>\n",
       "    <tr>\n",
       "      <th>23</th>\n",
       "      <td>7</td>\n",
       "      <td>8.836658</td>\n",
       "    </tr>\n",
       "    <tr>\n",
       "      <th>24</th>\n",
       "      <td>16</td>\n",
       "      <td>8.753345</td>\n",
       "    </tr>\n",
       "    <tr>\n",
       "      <th>25</th>\n",
       "      <td>5</td>\n",
       "      <td>8.740527</td>\n",
       "    </tr>\n",
       "    <tr>\n",
       "      <th>26</th>\n",
       "      <td>9</td>\n",
       "      <td>8.798206</td>\n",
       "    </tr>\n",
       "    <tr>\n",
       "      <th>27</th>\n",
       "      <td>9</td>\n",
       "      <td>8.804615</td>\n",
       "    </tr>\n",
       "    <tr>\n",
       "      <th>28</th>\n",
       "      <td>10</td>\n",
       "      <td>8.766162</td>\n",
       "    </tr>\n",
       "    <tr>\n",
       "      <th>29</th>\n",
       "      <td>11</td>\n",
       "      <td>8.804615</td>\n",
       "    </tr>\n",
       "  </tbody>\n",
       "</table>\n",
       "</div>"
      ],
      "text/plain": [
       "    Actual  Predicted\n",
       "0        8   8.778980\n",
       "1        6   8.817432\n",
       "2        9   8.759754\n",
       "3        5   8.740527\n",
       "4       14   8.798206\n",
       "5       11   8.823841\n",
       "6       12   8.817432\n",
       "7       12   8.778980\n",
       "8        9   8.791797\n",
       "9        8   8.740527\n",
       "10      12   8.798206\n",
       "11      10   8.804615\n",
       "12       6   8.811023\n",
       "13      15   8.791797\n",
       "14      15   8.811023\n",
       "15       8   8.817432\n",
       "16      12   8.823841\n",
       "17       8   8.823841\n",
       "18       8   8.772571\n",
       "19       5   8.778980\n",
       "20       7   8.836658\n",
       "21       6   8.785388\n",
       "22       9   8.740527\n",
       "23       7   8.836658\n",
       "24      16   8.753345\n",
       "25       5   8.740527\n",
       "26       9   8.798206\n",
       "27       9   8.804615\n",
       "28      10   8.766162\n",
       "29      11   8.804615"
      ]
     },
     "execution_count": 21,
     "metadata": {},
     "output_type": "execute_result"
    }
   ],
   "source": [
    "# create a df comparing the actual and predicted values of y\n",
    "data = pd.DataFrame({'Actual': y_test.flatten(), 'Predicted': y_predicted.flatten()})\n",
    "data.head(30)"
   ]
  },
  {
   "cell_type": "markdown",
   "id": "98bc8308",
   "metadata": {},
   "source": [
    "# 9 Compare Test Set"
   ]
  },
  {
   "cell_type": "code",
   "execution_count": 22,
   "id": "52a0e442",
   "metadata": {},
   "outputs": [],
   "source": [
    "# predict\n",
    "y_predicted_train = regression.predict(X_train)"
   ]
  },
  {
   "cell_type": "code",
   "execution_count": 23,
   "id": "a8f1f203",
   "metadata": {},
   "outputs": [],
   "source": [
    "# create objects\n",
    "rmse = mean_squared_error(y_train, y_predicted_train)\n",
    "r2 = r2_score(y_train, y_predicted_train)"
   ]
  },
  {
   "cell_type": "code",
   "execution_count": 24,
   "id": "af6ec557",
   "metadata": {},
   "outputs": [
    {
     "name": "stdout",
     "output_type": "stream",
     "text": [
      "Slope: [[0.00640872]]\n",
      "Mean squared error:  12.351371085040457\n",
      "R2 score:  8.461820083260907e-05\n"
     ]
    }
   ],
   "source": [
    "# print model summary statistics \n",
    "print('Slope:' ,regression.coef_)\n",
    "print('Mean squared error: ', rmse)\n",
    "print('R2 score: ', r2)"
   ]
  },
  {
   "cell_type": "code",
   "execution_count": 25,
   "id": "032b2b70",
   "metadata": {},
   "outputs": [
    {
     "data": {
      "image/png": "[encoded data removed]",
      "text/plain": [
       "<Figure size 432x288 with 1 Axes>"
      ]
     },
     "metadata": {
      "needs_background": "light"
     },
     "output_type": "display_data"
    }
   ],
   "source": [
    "# visualize training set results \n",
    "plot_test = plt\n",
    "plot_test.scatter(X_train, y_train, color='green', s = 15)\n",
    "plot_test.plot(X_train, y_predicted_train, color='red', linewidth =3)\n",
    "plot_test.title('Wind.Speed vs Opponent.H (Train set)')\n",
    "plot_test.xlabel('Wind.Speed')\n",
    "plot_test.ylabel('Opponent.H')\n",
    "plot_test.show()"
   ]
  },
  {
   "cell_type": "markdown",
   "id": "077e1aa6",
   "metadata": {},
   "source": [
    "I think this is not the best model for the data as the MSE is large in comparison to the variations in data.  The data range is relatively small, meaning an MSE of 12 would be considered large.  The R2 is also very large and indicating that this regression line won't be able to predict anything. Based on the R2 scores, I am overfitted.  This means the model is too specific for the data. One issue with the data could be within the distribution.  I noted that wind speeds over 10 would create more opponent hits, but there are far more data points from 0-10 than 10-27. Smoothing this could result in a distortion or relaity or bias.  "
   ]
  },
  {
   "cell_type": "code",
   "execution_count": 26,
   "id": "8a9221aa",
   "metadata": {},
   "outputs": [],
   "source": [
    "df.to_csv(r'C:\\Users\\419182\\OneDrive - JELDWEN Inc\\Desktop\\Data Analytics\\Clean2019BattingData3.csv', index = False)"
   ]
  }
 ],
 "metadata": {
  "kernelspec": {
   "display_name": "Python 3 (ipykernel)",
   "language": "python",
   "name": "python3"
  },
  "language_info": {
   "codemirror_mode": {
    "name": "ipython",
    "version": 3
   },
   "file_extension": ".py",
   "mimetype": "text/x-python",
   "name": "python",
   "nbconvert_exporter": "python",
   "pygments_lexer": "ipython3",
   "version": "3.9.7"
  }
 },
 "nbformat": 4,
 "nbformat_minor": 5
}
